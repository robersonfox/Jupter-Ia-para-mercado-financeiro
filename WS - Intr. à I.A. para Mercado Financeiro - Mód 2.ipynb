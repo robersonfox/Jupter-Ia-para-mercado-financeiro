{
 "cells": [
  {
   "cell_type": "markdown",
   "metadata": {},
   "source": [
    "![title](../logo.PNG)"
   ]
  },
  {
   "cell_type": "markdown",
   "metadata": {},
   "source": [
    "#### O curso é dividido em dois módulos:"
   ]
  },
  {
   "cell_type": "markdown",
   "metadata": {},
   "source": [
    "**Módulo 1 - Análise de dados macroeconômicos e de mercado financeiro**\n",
    "\n",
    "\n",
    "\n",
    "Vamos mostrar como obter dados macroeconômicos (inflação, juros, PIB) e de mercado financeiro (Ibov, papéis da bolsa) diretamente com o Python e apresentar técnicas de análise que vão te ajudar a extrair diversas informações relevantes do mercado financeiro. Início às 10h, com duração de 2h mais alguns minutos para dúvidas de alunos.\n",
    "\n",
    " \n",
    "\n",
    "**Módulo 2 - Introdução ao Machine Learning**\n",
    "\n",
    "Apresentaremos noções básicas de modelagem com Machine Learning, além de conduzir o aluno na criação de alguns modelos clássicos. Início às 13h, com duração de 2h mais alguns minutos para dúvidas de alunos."
   ]
  },
  {
   "cell_type": "markdown",
   "metadata": {},
   "source": [
    "![title](ossamu.PNG)"
   ]
  },
  {
   "cell_type": "markdown",
   "metadata": {},
   "source": [
    "`shift + enter`: rodar celula"
   ]
  },
  {
   "cell_type": "code",
   "execution_count": 4,
   "metadata": {
    "ExecuteTime": {
     "end_time": "2020-04-19T16:11:19.241481Z",
     "start_time": "2020-04-19T16:11:19.235503Z"
    }
   },
   "outputs": [],
   "source": [
    "import numpy as np\n",
    "import pandas as pd\n",
    "import matplotlib.pyplot as plt\n",
    "import seaborn as sns\n",
    "import sys\n",
    "\n",
    "%matplotlib inline"
   ]
  },
  {
   "cell_type": "code",
   "execution_count": null,
   "metadata": {},
   "outputs": [],
   "source": [
    "pip install --upgrade scikit-learn"
   ]
  },
  {
   "cell_type": "code",
   "execution_count": null,
   "metadata": {},
   "outputs": [],
   "source": [
    "!{sys.executable} -m pip install seaborn"
   ]
  },
  {
   "cell_type": "code",
   "execution_count": 67,
   "metadata": {
    "ExecuteTime": {
     "end_time": "2020-04-19T16:33:02.473362Z",
     "start_time": "2020-04-19T16:33:02.470350Z"
    }
   },
   "outputs": [],
   "source": [
    "usecols = ['Target', 'GrupoEconomico']"
   ]
  },
  {
   "cell_type": "code",
   "execution_count": 68,
   "metadata": {
    "ExecuteTime": {
     "end_time": "2020-04-19T16:33:10.607462Z",
     "start_time": "2020-04-19T16:33:10.597464Z"
    }
   },
   "outputs": [],
   "source": [
    "df = pd.read_csv('../datasets/AtrasoCartaoCredito.csv', usecols=usecols)"
   ]
  },
  {
   "cell_type": "code",
   "execution_count": 70,
   "metadata": {
    "ExecuteTime": {
     "end_time": "2020-04-19T16:33:34.590950Z",
     "start_time": "2020-04-19T16:33:34.581955Z"
    }
   },
   "outputs": [],
   "source": [
    "df = pd.read_csv('../datasets/AtrasoCartaoCredito.csv')"
   ]
  },
  {
   "cell_type": "code",
   "execution_count": 7,
   "metadata": {
    "ExecuteTime": {
     "end_time": "2020-04-19T16:13:13.074782Z",
     "start_time": "2020-04-19T16:13:13.068784Z"
    }
   },
   "outputs": [
    {
     "data": {
      "text/plain": [
       "(891, 13)"
      ]
     },
     "execution_count": 7,
     "metadata": {},
     "output_type": "execute_result"
    }
   ],
   "source": [
    "df.shape"
   ]
  },
  {
   "cell_type": "code",
   "execution_count": 6,
   "metadata": {
    "ExecuteTime": {
     "end_time": "2020-04-19T16:12:14.472926Z",
     "start_time": "2020-04-19T16:12:14.451938Z"
    }
   },
   "outputs": [
    {
     "data": {
      "text/html": [
       "<div>\n",
       "<style scoped>\n",
       "    .dataframe tbody tr th:only-of-type {\n",
       "        vertical-align: middle;\n",
       "    }\n",
       "\n",
       "    .dataframe tbody tr th {\n",
       "        vertical-align: top;\n",
       "    }\n",
       "\n",
       "    .dataframe thead th {\n",
       "        text-align: right;\n",
       "    }\n",
       "</style>\n",
       "<table border=\"1\" class=\"dataframe\">\n",
       "  <thead>\n",
       "    <tr style=\"text-align: right;\">\n",
       "      <th></th>\n",
       "      <th>ID</th>\n",
       "      <th>Target</th>\n",
       "      <th>GrupoEconomico</th>\n",
       "      <th>Sexo</th>\n",
       "      <th>Idade</th>\n",
       "      <th>GrupoRisco</th>\n",
       "      <th>ValorCompraAnual</th>\n",
       "      <th>GastoMax</th>\n",
       "      <th>GastoMedio</th>\n",
       "      <th>UF</th>\n",
       "      <th>CidadeResidencia</th>\n",
       "      <th>RegiaodoPais</th>\n",
       "      <th>NumeroComprasOnline</th>\n",
       "    </tr>\n",
       "  </thead>\n",
       "  <tbody>\n",
       "    <tr>\n",
       "      <th>0</th>\n",
       "      <td>1</td>\n",
       "      <td>0</td>\n",
       "      <td>3</td>\n",
       "      <td>homem</td>\n",
       "      <td>22</td>\n",
       "      <td>1</td>\n",
       "      <td>7250.0</td>\n",
       "      <td>517.857143</td>\n",
       "      <td>604.166667</td>\n",
       "      <td>MG</td>\n",
       "      <td>Morada Nova de Minas</td>\n",
       "      <td>Região Sudeste</td>\n",
       "      <td>54.924242</td>\n",
       "    </tr>\n",
       "    <tr>\n",
       "      <th>1</th>\n",
       "      <td>2</td>\n",
       "      <td>1</td>\n",
       "      <td>1</td>\n",
       "      <td>mulher</td>\n",
       "      <td>38</td>\n",
       "      <td>1</td>\n",
       "      <td>71283.0</td>\n",
       "      <td>5091.642857</td>\n",
       "      <td>5940.250000</td>\n",
       "      <td>RN</td>\n",
       "      <td>Marcelino Vieira</td>\n",
       "      <td>Região Nordeste</td>\n",
       "      <td>312.644737</td>\n",
       "    </tr>\n",
       "    <tr>\n",
       "      <th>2</th>\n",
       "      <td>3</td>\n",
       "      <td>1</td>\n",
       "      <td>3</td>\n",
       "      <td>mulher</td>\n",
       "      <td>26</td>\n",
       "      <td>0</td>\n",
       "      <td>7925.0</td>\n",
       "      <td>566.071429</td>\n",
       "      <td>660.416667</td>\n",
       "      <td>PR</td>\n",
       "      <td>Agudos do Sul</td>\n",
       "      <td>Região Sul</td>\n",
       "      <td>50.801282</td>\n",
       "    </tr>\n",
       "    <tr>\n",
       "      <th>3</th>\n",
       "      <td>4</td>\n",
       "      <td>1</td>\n",
       "      <td>1</td>\n",
       "      <td>mulher</td>\n",
       "      <td>35</td>\n",
       "      <td>1</td>\n",
       "      <td>531.0</td>\n",
       "      <td>37.928571</td>\n",
       "      <td>44.250000</td>\n",
       "      <td>PR</td>\n",
       "      <td>Congonhinhas</td>\n",
       "      <td>Região Sul</td>\n",
       "      <td>2.528571</td>\n",
       "    </tr>\n",
       "    <tr>\n",
       "      <th>4</th>\n",
       "      <td>5</td>\n",
       "      <td>0</td>\n",
       "      <td>3</td>\n",
       "      <td>homem</td>\n",
       "      <td>35</td>\n",
       "      <td>0</td>\n",
       "      <td>805.0</td>\n",
       "      <td>57.500000</td>\n",
       "      <td>67.083333</td>\n",
       "      <td>BA</td>\n",
       "      <td>Morpará</td>\n",
       "      <td>Região Nordeste</td>\n",
       "      <td>3.833333</td>\n",
       "    </tr>\n",
       "  </tbody>\n",
       "</table>\n",
       "</div>"
      ],
      "text/plain": [
       "   ID  Target  GrupoEconomico    Sexo  Idade  GrupoRisco  ValorCompraAnual  \\\n",
       "0   1       0               3   homem     22           1            7250.0   \n",
       "1   2       1               1  mulher     38           1           71283.0   \n",
       "2   3       1               3  mulher     26           0            7925.0   \n",
       "3   4       1               1  mulher     35           1             531.0   \n",
       "4   5       0               3   homem     35           0             805.0   \n",
       "\n",
       "      GastoMax   GastoMedio  UF      CidadeResidencia     RegiaodoPais  \\\n",
       "0   517.857143   604.166667  MG  Morada Nova de Minas   Região Sudeste   \n",
       "1  5091.642857  5940.250000  RN      Marcelino Vieira  Região Nordeste   \n",
       "2   566.071429   660.416667  PR         Agudos do Sul       Região Sul   \n",
       "3    37.928571    44.250000  PR          Congonhinhas       Região Sul   \n",
       "4    57.500000    67.083333  BA               Morpará  Região Nordeste   \n",
       "\n",
       "   NumeroComprasOnline  \n",
       "0            54.924242  \n",
       "1           312.644737  \n",
       "2            50.801282  \n",
       "3             2.528571  \n",
       "4             3.833333  "
      ]
     },
     "execution_count": 6,
     "metadata": {},
     "output_type": "execute_result"
    }
   ],
   "source": [
    "df.head()"
   ]
  },
  {
   "cell_type": "code",
   "execution_count": 36,
   "metadata": {
    "ExecuteTime": {
     "end_time": "2020-04-19T16:24:13.801871Z",
     "start_time": "2020-04-19T16:24:13.639456Z"
    }
   },
   "outputs": [
    {
     "data": {
      "text/plain": [
       "<matplotlib.axes._subplots.AxesSubplot at 0x23835bc2b70>"
      ]
     },
     "execution_count": 36,
     "metadata": {},
     "output_type": "execute_result"
    },
    {
     "data": {
      "image/png": "[encoded data removed]",
      "text/plain": [
       "<Figure size 432x288 with 1 Axes>"
      ]
     },
     "metadata": {
      "needs_background": "light"
     },
     "output_type": "display_data"
    }
   ],
   "source": [
    "df['Target'].value_counts().plot(kind='barh')"
   ]
  },
  {
   "cell_type": "code",
   "execution_count": 16,
   "metadata": {
    "ExecuteTime": {
     "end_time": "2020-04-19T16:15:28.953283Z",
     "start_time": "2020-04-19T16:15:28.789270Z"
    }
   },
   "outputs": [
    {
     "data": {
      "text/plain": [
       "<matplotlib.axes._subplots.AxesSubplot at 0x23832c07898>"
      ]
     },
     "execution_count": 16,
     "metadata": {},
     "output_type": "execute_result"
    },
    {
     "data": {
      "image/png": "[encoded data removed]",
      "text/plain": [
       "<Figure size 432x288 with 1 Axes>"
      ]
     },
     "metadata": {
      "needs_background": "light"
     },
     "output_type": "display_data"
    }
   ],
   "source": [
    "df['Sexo'].value_counts().plot.barh()"
   ]
  },
  {
   "cell_type": "code",
   "execution_count": 27,
   "metadata": {
    "ExecuteTime": {
     "end_time": "2020-04-19T16:19:22.947741Z",
     "start_time": "2020-04-19T16:19:22.619894Z"
    }
   },
   "outputs": [
    {
     "data": {
      "text/plain": [
       "<matplotlib.axes._subplots.AxesSubplot at 0x238359fcba8>"
      ]
     },
     "execution_count": 27,
     "metadata": {},
     "output_type": "execute_result"
    },
    {
     "data": {
      "image/png": "[encoded data removed]",
      "text/plain": [
       "<Figure size 432x288 with 2 Axes>"
      ]
     },
     "metadata": {
      "needs_background": "light"
     },
     "output_type": "display_data"
    }
   ],
   "source": [
    "sns.heatmap(pd.crosstab(df['Sexo'], df['Target'], margins=True), \n",
    "            annot=True, fmt='.3g', cmap='Blues')"
   ]
  },
  {
   "cell_type": "code",
   "execution_count": 30,
   "metadata": {
    "ExecuteTime": {
     "end_time": "2020-04-19T16:21:49.137600Z",
     "start_time": "2020-04-19T16:21:49.132589Z"
    }
   },
   "outputs": [
    {
     "data": {
      "text/plain": [
       "851"
      ]
     },
     "execution_count": 30,
     "metadata": {},
     "output_type": "execute_result"
    }
   ],
   "source": [
    "df['CidadeResidencia'].nunique()"
   ]
  },
  {
   "cell_type": "code",
   "execution_count": 29,
   "metadata": {
    "ExecuteTime": {
     "end_time": "2020-04-19T16:20:18.694519Z",
     "start_time": "2020-04-19T16:20:18.685514Z"
    }
   },
   "outputs": [
    {
     "data": {
      "text/plain": [
       "array(['Morada Nova de Minas', 'Marcelino Vieira', 'Agudos do Sul',\n",
       "       'Congonhinhas', 'Morpará', 'Carneiros', 'Figueira', 'Ouriçangas',\n",
       "       'Comercinho', 'Japonvar', 'Chupinguaia', 'Lajedo do Tabocal',\n",
       "       'Riacho Dos Cavalos', 'Abaíra', 'Alto Jequitibá', 'Porangaba',\n",
       "       'Jóia', 'Verdelândia', 'Monte Castelo', 'Ilha Das Flores',\n",
       "       'São Pedro Dos Ferros', 'Gongogi', 'Aragoiânia', 'Pirambu',\n",
       "       'Alvorada', 'Uiramutã', 'Gado Bravo', 'Prados', 'Lontra',\n",
       "       'Redenção do Gurguéia', 'Ouroeste', 'São José da Bela Vista',\n",
       "       'Iporã do Oeste', 'Palmeiras', 'Serra Dos Aimorés',\n",
       "       'Bom Jardim de Goiás', 'Pureza', 'Porto de Pedras',\n",
       "       'Balneário Barra do Sul', 'Guaraçaí', 'São Vicente do Sul',\n",
       "       'Silves', 'Cachoeira Grande', 'General Câmara',\n",
       "       'Murici Dos Portelas', 'Malhada de Pedras', 'Bujari',\n",
       "       'Olho D´água do Casado', 'Anaurilândia', 'Filadélfia',\n",
       "       'Terra Roxa', 'Nossa Senhora Aparecida', 'Nova Glória',\n",
       "       'Nova Campina', 'Denise', 'Jatobá', 'Ariranha', 'Japurá',\n",
       "       'Queimada Nova', 'Mauá da Serra', 'Tuparendi', 'Rio Das Flores',\n",
       "       'Itapuã do Oeste', 'Apiacás', 'Baía Formosa', 'Itauçu',\n",
       "       'Santana do Manhuaçu', 'Pavão', 'Paulo de Faria',\n",
       "       'Francisco Santos', 'Aratuípe', 'Ribeirão do Largo', 'Dourado',\n",
       "       'Colméia', 'Rafard', 'Virgínia', 'Anita Garibaldi',\n",
       "       'São Sebastião da Amoreira', 'Lagoa Grande', 'Descanso', 'Casca',\n",
       "       'Várzea do Poço', 'Itapeva', 'Cordisburgo',\n",
       "       'São Miguel do Gostoso', 'Vila Pavão', 'Tangará', 'Guarani',\n",
       "       'Tuneiras do Oeste', 'Iracema', 'Herculândia', 'Guiricema',\n",
       "       'Rio Novo', 'Barro Alto', 'Dionísio', 'Santa Isabel do Ivaí',\n",
       "       'Santa Terezinha', 'Presidente Juscelino', 'Candiota',\n",
       "       'Neves Paulista', 'Santanópolis', 'Lavínia', 'Maiquinique',\n",
       "       'Corumbiara', 'Araguaçu', 'Salto Grande', 'Tomazina', 'Capixaba',\n",
       "       'Vargem', 'Pratápolis', 'Planaltino', 'Santa Bárbara do Sul',\n",
       "       'Igaratá', 'Pedrinhas', 'Urânia', 'Icaraíma', 'Nova Bassano',\n",
       "       'Caturama', 'Brejão', 'Marilândia do Sul', 'Palhano',\n",
       "       'Capim Branco', 'Ribeirão Cascalheira', 'Santa Luzia D´oeste',\n",
       "       'Candeal', 'São Sebastião do Alto', 'Cardeal da Silva', 'Tarrafas',\n",
       "       'Perdigão', 'Ilha Grande', 'Frei Inocêncio', 'Carmo do Rio Verde',\n",
       "       'Entre-ijuís', 'Normandia', 'Bom Retiro', 'Ibitirama', 'Florânia',\n",
       "       'Cachoeira de Pajeú', 'Jaborandi', 'Vera Cruz do Oeste',\n",
       "       'Divisópolis', 'Wagner', 'Pocrane', 'Manduri', 'Rondon',\n",
       "       'Calçoene', 'Natividade', 'Jesuítas', 'Januário Cicco', 'Saudades',\n",
       "       'Coluna', 'Ilha Comprida', 'Itaipulândia', 'Santa Rita de Caldas',\n",
       "       'Sarapuí', 'Caputira', 'Campo Grande', 'Buriti Alegre',\n",
       "       'São Jorge D´oeste', 'Rio Acima', 'Deputado Irapuan Pinheiro',\n",
       "       'Anísio de Abreu', 'Paranaiguara', 'Varzedo', 'Coronel Murta',\n",
       "       'Verdejante', 'Sítio Novo do Tocantins', 'Carbonita',\n",
       "       'Porto Walter', 'Angélica', 'Nova Ubiratã', 'Triunfo',\n",
       "       'Rosário do Catete', 'São Domingos', 'Juruaia', 'Fernando Falcão',\n",
       "       'Dom Inocêncio', 'Igaratinga', 'Paula Cândido',\n",
       "       'São José do Cerrito', 'Axixá do Tocantins', 'Terra Nova',\n",
       "       'Ipupiara', 'Augusto Severo', 'Coqueiral', 'Umbuzeiro',\n",
       "       'Dores de Campos', 'Nova Europa', 'Salgadinho', 'Monte Carlo',\n",
       "       'Agrolândia', 'Catuípe', 'Amajari', 'Ipiranga do Piauí',\n",
       "       'Torrinha', 'Riachuelo', 'Riacho Dos Machados', 'Campo Erê',\n",
       "       'Chapada', 'Vale do Anari', 'Cavalcante', 'Grossos', 'Canápolis',\n",
       "       'Alfredo Wagner', 'Montes Altos', 'Bom Jesus', 'Água Branca',\n",
       "       'Amaturá', 'Mulungu', 'Carneirinho', 'Uchoa', 'Varre-sai',\n",
       "       'Esperantina', 'Bom Jesus do Norte', 'Arceburgo', 'Águia Branca',\n",
       "       'Ipuiúna', 'Irani', 'Tombos', 'Cachoeira Dos Índios', 'Quixabeira',\n",
       "       'Catanduvas', 'Lamarão', 'Antônio Dias', 'Prudente de Morais',\n",
       "       'Engenheiro Coelho', 'Água Fria', 'Canudos',\n",
       "       'Pirapora do Bom Jesus', 'Ponto Novo', 'Saboeiro', 'Cipó',\n",
       "       'Pedra Preta', 'Pereiro', 'Santa Cecília', 'Abadiânia', 'Crixás',\n",
       "       'Joaquim Nabuco', 'Elias Fausto', 'Terra Boa', 'Ibicuí',\n",
       "       'João Neiva', 'Jataúba', 'Tocantins', 'Indiaroba',\n",
       "       'São Paulo do Potengi', 'Aveiro', 'Restinga Seca', 'Cujubim',\n",
       "       'Montalvânia', 'Bituruna', 'Contenda', 'Governador Edison Lobão',\n",
       "       'Souto Soares', 'Não-me-toque', 'Augustinópolis', 'Poço Fundo',\n",
       "       'América Dourada', 'Governador Eugênio Barros', 'Lagoa do Carro',\n",
       "       'Malhada', 'Palmitos', 'Belo Campo', 'São Francisco do Guaporé',\n",
       "       'Venturosa', 'Sumé', 'Matelândia', 'Porto Belo', 'Xapuri',\n",
       "       'Morro da Fumaça', 'Tanque Novo', 'Lima Duarte', 'Getúlio Vargas',\n",
       "       'Aiuaba', 'Cruz do Espírito Santo', 'Macatuba', 'Mirangaba',\n",
       "       'Conchas', 'Ourém', 'Corbélia', 'Faxinal', 'Anori', 'Belterra',\n",
       "       'Pinhalzinho', 'Otacílio Costa', 'Envira', 'Realeza', 'Maruim',\n",
       "       'Assaí', 'Alto Santo', 'São Pedro do Sul', 'Nazaré Paulista',\n",
       "       'Ourolândia', 'Nova Alvorada do Sul', 'Alto Alegre', 'Urandi',\n",
       "       'Jaguaripe', 'Tapiramutá', 'Cristinápolis', 'Sapeaçu',\n",
       "       'Porto Real', 'Bacuri', 'Cafelândia', 'Tapes', 'Cândido de Abreu',\n",
       "       'Monsenhor Tabosa', 'Ipaba', 'Nova Canaã', 'Agudo', 'Carnaubal',\n",
       "       'Cacimba de Dentro', 'Campo do Brito', 'Caiapônia', 'Juazeirinho',\n",
       "       'Porto Grande', 'Tejuçuoca', 'Alumínio', 'Alvorada D´oeste',\n",
       "       'Areia Branca', 'Japaratuba', 'Trairão', 'Boqueirão',\n",
       "       'São Caetano de Odivelas', 'Condeúba', 'Dormentes', 'Seara',\n",
       "       'Cerro Azul', 'Terra Santa', 'Ladainha', 'Pedro Alexandre',\n",
       "       'Itapororoca', 'São Vicente Ferrer', 'Umburanas', 'Sítio Novo',\n",
       "       'Jijoca de Jericoacoara', 'Ibipeba', 'Central', 'Pitimbu',\n",
       "       'Fundão', 'Cerejeiras', 'Tremedal', 'Mazagão', 'Pocinhos',\n",
       "       'Mundo Novo', 'Carmópolis de Minas', 'Mangueirinha',\n",
       "       'Mirante do Paranapanema', 'Capistrano', 'Abaré',\n",
       "       'Coronel João sá', 'Croatá', 'Antas', 'Giruá', 'Batalha', 'Capela',\n",
       "       'Piçarras', 'Tonantins', 'Araçariguama', 'São Simão', 'Resplendor',\n",
       "       'Quitandinha', 'Belém', 'Macarani', 'Urucará', 'Abelardo Luz',\n",
       "       'Camocim de São Félix', 'Rio Pomba', 'Borda da Mata', 'Pontalina',\n",
       "       'São José do Rio Claro', 'Jaboticatubas', 'Alto Paraíso',\n",
       "       'Amarante', 'Santa Bárbara do Pará', 'Terenos', 'Lagoa Formosa',\n",
       "       'Presidente Sarney', 'Santana do Cariri', 'Ribeirópolis', 'Cumaru',\n",
       "       'Piaçabuçu', 'Santa Maria Das Barreiras', 'Jacupiranga',\n",
       "       'Plácido de Castro', 'Cafarnaum', 'Araçagi', 'Piranga',\n",
       "       'São João do Soter', 'Clevelândia', 'Bom Sucesso', 'Canapi',\n",
       "       'Estrela de Alagoas', 'Peçanha', 'Taió', 'Águas de Lindóia',\n",
       "       'Ibicoara', 'Jaguaruna', 'Viradouro', 'Ampére', 'Banabuiú',\n",
       "       'Cabaceiras do Paraguaçu', 'Ibirama', 'Santo Antônio do Amparo',\n",
       "       'São Domingos do Prata', 'Colina', 'Madre de Deus', 'Pradópolis',\n",
       "       'Pirapemas', 'Paraibuna', 'Hidrolândia', 'Cocalzinho de Goiás',\n",
       "       'Cássia', 'Correntes', 'Anadia', 'Rio Claro', 'Carmo',\n",
       "       'São Raimundo Das Mangabeiras', 'Gonçalves Dias', 'Luz',\n",
       "       'Nova Olímpia', 'Sapucaia', 'Maraã', 'Nova Era', 'Rio Bananal',\n",
       "       'Capela do Alto', 'Cerqueira César', 'Regeneração',\n",
       "       'Passagem Franca', 'Remígio', 'Afrânio', 'Magalhães de Almeida',\n",
       "       'Varjota', 'Poxoréo', 'Centro Novo do Maranhão', 'Matipó',\n",
       "       'Fátima', 'Solonópole', 'Imbé', 'Pio ix', 'Arinos',\n",
       "       'Rosário Oeste', 'Jucurutu', 'Rio Maria', 'Itacarambi', 'Aporá',\n",
       "       'Formosa da Serra Negra', 'Porciúncula', 'Floresta do Araguaia',\n",
       "       'Morros', 'São Benedito do Rio Preto', 'Paranapanema',\n",
       "       'Chapada Dos Guimarães', 'Urucurituba', 'Ibititá',\n",
       "       'Barão de Grajaú', 'Montanha', 'Itaberá', 'Jaguaretama',\n",
       "       'Guapiaçu', 'Conceição do Almeida', 'Inhapi',\n",
       "       'Conceição do Mato Dentro', 'Papanduva', 'Mendes', 'Ervália',\n",
       "       'Piatã', 'Boa Vista do Tupim', 'Jutaí', 'Senador la Rocque',\n",
       "       'Guapiara', 'Castilho', 'Apuí', 'Alhandra', 'Jaicós',\n",
       "       'Cruz Machado', 'Itatinga', 'Turmalina', 'Pastos Bons', 'Manari',\n",
       "       'Madalena', 'Sapezal', 'Serra Dourada', 'Piúma', 'Ituaçu',\n",
       "       'Três Barras', 'São Miguel do Tapuio', 'Santa Vitória', 'Garopaba',\n",
       "       'Santa Isabel do Rio Negro', 'Cocos', 'Araçoiaba', 'Pauini',\n",
       "       'Ipanema', 'Utinga', 'Comodoro', 'Ingá',\n",
       "       'São José da Coroa Grande', 'São João do Rio do Peixe', 'Picuí',\n",
       "       'Vertentes', 'Lagoa da Canoa', 'Ribeirão Branco', 'Nhamundá',\n",
       "       'Curionópolis', 'Simonésia', 'Aragarças', 'Baependi', 'Serrita',\n",
       "       'Castelo do Piauí', 'Cajari', 'Nova Hartz', 'Cariré',\n",
       "       'Horizontina', 'Iati', 'Conceição', 'Icapuí', 'Muniz Freire',\n",
       "       'Caracaraí', 'Campos Belos', 'Sengés', 'Formoso do Araguaia',\n",
       "       'São Gabriel', 'Guabiruba', 'Pariquera-açu', 'Esperantinópolis',\n",
       "       'Siqueira Campos', 'Itapaci', 'Santo Antônio do Leverger',\n",
       "       'Arroio Grande', 'Águas Formosas', 'Alpinópolis', 'Regente Feijó',\n",
       "       'Cândido Mendes', 'Neópolis', 'Capanema', 'Caconde', 'Itarantim',\n",
       "       'Buri', 'Cariús', 'Carnaíba', 'Presidente Olegário',\n",
       "       'Colorado do Oeste', 'Olho D´água Das Cunhãs', 'Buerarema',\n",
       "       'Itaquiraí', 'Itapiúna', 'Aripuanã', 'Pindoretama', 'Guaranésia',\n",
       "       'Junqueirópolis', 'Catarina', 'Taperoá', 'Canarana',\n",
       "       'Palmeirândia', 'Malacacheta', 'Arroio do Meio', 'Umirim',\n",
       "       'Cachoeirinha', 'Padre Paraíso', 'Araruna',\n",
       "       'Rio Verde de Mato Grosso', 'Antonina',\n",
       "       'Santo Antônio do Sudoeste', 'Itatira', 'Major Isidoro',\n",
       "       'Chorozinho', 'Rubiataba', 'Monte Azul Paulista', 'Ibirataia',\n",
       "       'Trizidela do Vale', 'Sátiro Dias', 'São José Dos Quatro Marcos',\n",
       "       'Farias Brito', 'Taquarana', 'Fátima do Sul', 'Nova Petrópolis',\n",
       "       'Santa Bárbara', 'Buriti Dos Lopes', 'Tapauá', 'Inajá', 'Aroeiras',\n",
       "       'Silvânia', 'São José de Piranhas', 'Maraú', 'Dianópolis',\n",
       "       'Varzelândia', 'Vargem Alta', 'Divino', 'Nova Olinda do Maranhão',\n",
       "       'Jussara', 'Maracaçumé', 'Riacho Das Almas', 'Carambeí',\n",
       "       'Nova Granada', 'Juquiá', 'Tapejara', 'São Francisco de Assis',\n",
       "       'Paranatinga', 'Wenceslau Braz', 'Ibirubá', 'Campina Verde',\n",
       "       'Mairi', 'Porto Real do Colégio', 'Tibagi', 'Salgado',\n",
       "       'Paraisópolis', 'Riachão do Dantas', 'Potim', 'Quixeré',\n",
       "       'Santa Luzia do Pará', 'Reriutaba', 'Rolante', 'São João do Piauí',\n",
       "       'Lambari', 'Barreira', 'Caraúbas', 'Júlio de Castilhos', 'Bonito',\n",
       "       'Capoeiras', 'Barroso', 'Buritirama', 'Lajinha', 'Ladário',\n",
       "       'Monte Alegre de Minas', 'Nova Xavantina', 'Chapadão do Sul',\n",
       "       'Chopinzinho', 'Alagoa Nova', 'Rosana', 'Costa Rica',\n",
       "       'Poção de Pedras', 'Bom Jesus Dos Perdões', 'Vazante', 'Ubaíra',\n",
       "       'Uruburetama', 'Candeias do Jamari', 'Mandaguaçu', 'Paulistana',\n",
       "       'São José da Lapa', 'Manga', 'Governador Mangabeira',\n",
       "       'Santo Amaro da Imperatriz', 'Cantagalo', 'Uruçuca', 'Bataguassu',\n",
       "       'Piratini', 'Quatro Barras', 'Guará', 'Nova Brasilândia D´oeste',\n",
       "       'Ivoti', 'Lucélia', 'Itororó', 'São João Batista',\n",
       "       'Quiterianópolis', 'Pompéia', 'Palmeira D´oeste',\n",
       "       'Euclides da Cunha Paulista', 'Balneário Arroio do Silva',\n",
       "       'Roseira', 'Apiúna', 'Luís Gomes', 'Bofete', 'Sigefredo Pacheco',\n",
       "       'Santa Teresinha', 'Bonito de Minas', 'Barracão', 'Constantina',\n",
       "       'Carnaubais', 'Buriti do Tocantins', 'Cajobi',\n",
       "       'São Gonçalo do Rio Abaixo', 'Piraí do Norte', 'Potiraguá',\n",
       "       'Ninheira', 'Conceição da Aparecida', 'Juru', 'Atilio Vivacqua',\n",
       "       'Ananás', 'Terra de Areia', 'Tenente Ananias', 'Pantano Grande',\n",
       "       'Beneditinos', 'Rubim', 'Glória de Dourados',\n",
       "       'Cabeceiras do Piauí', 'Itatiaiuçu', 'Tabaporã', 'Rinópolis',\n",
       "       'Catunda', 'Ventania', 'Guaraci', 'Matias Cardoso',\n",
       "       'Cristino Castro', 'Bela Vista de Minas', 'Iacanga', 'Aramari',\n",
       "       'Inhangapi', 'Estiva Gerbi', 'Rio do Fogo', 'Ibiassucê',\n",
       "       'Alto Paraguai', 'Sinimbu', 'Bom Jesus da Serra',\n",
       "       'São Pedro do Ivaí', 'Alto Piquiri', 'São José do Jacuípe',\n",
       "       'Cacimbinhas', 'Senhora Dos Remédios', 'Itatuba', 'Angelim',\n",
       "       'Pedro de Toledo', 'Governador Archer', 'Itapitanga', 'Pérola',\n",
       "       'Lagoa da Confusão', 'Cristina', 'Caracol', 'Aperibé',\n",
       "       'Coronel Freitas', 'Anamã', 'Martinópole', 'Tacuru',\n",
       "       'Pires Ferreira', 'Três Cachoeiras', 'Caetanópolis', 'Ronda Alta',\n",
       "       'Caraíbas', 'Redentora', 'Guaraciaba', 'Bananal', 'Mariluz',\n",
       "       'Arvorezinha', 'Groaíras', 'Seridó', 'Mondaí', 'Vera',\n",
       "       'Juripiranga', 'Novo Horizonte do Oeste', 'Anguera', 'Lontras',\n",
       "       'São João do Manhuaçu', 'Francisco Badaró', 'Quilombo',\n",
       "       'Paranacity', 'Miradouro', 'Aral Moreira',\n",
       "       'Senador Alexandre Costa', 'São João D´aliança',\n",
       "       'São Francisco do Brejão', 'Terra Alta', 'Campo de Santana',\n",
       "       'São Geraldo', 'Pariconha', 'Campo Redondo', 'Centralina',\n",
       "       'Primavera', 'Guadalupe', 'Cerro Grande do Sul', 'Coroaci',\n",
       "       'Muquém de São Francisco', 'Parnaguá', 'Potengi', 'Açucena',\n",
       "       'São Romão', 'Engenheiro Caldas', 'Alvorada do Sul',\n",
       "       'Teixeira Soares', 'Petrolina de Goiás', 'Maravilha',\n",
       "       'Rio Dos Cedros', 'Roca Sales', 'Serra do Mel',\n",
       "       'Trajano de Morais', 'Jucuruçu', 'Urucânia', 'São Carlos',\n",
       "       'Buenópolis', 'Cedral', 'Recreio', 'Santa Terezinha de Goiás',\n",
       "       'Milagres', 'Presidente Kennedy', 'Iapu',\n",
       "       'Pedras de Maria da Cruz', 'Arenápolis', 'Santa Maria Madalena',\n",
       "       'Jordânia', 'Pirpirituba', 'Jandaíra', 'Santa Tereza do Oeste',\n",
       "       'Monsenhor Gil', 'Benedito Novo', 'Paranã',\n",
       "       'Novo Oriente de Minas', 'Pintadas', 'Monte Alegre do Piauí',\n",
       "       'Fervedouro', 'Itamogi', 'Alto Garças', 'Ministro Andreazza',\n",
       "       'Corumbá de Goiás', 'Santa Inês', 'Dois Irmãos do Buriti',\n",
       "       'Pirapetinga', 'Guia Lopes da Laguna', 'Caém', 'Lençóis', 'Mercês',\n",
       "       'Sebastião Laranjeiras', 'Nova Prata do Iguaçu', 'Lajes', 'Peixe',\n",
       "       'Planura', 'Conceição Dos Ouros', 'Arataca', 'Tapurah',\n",
       "       'São Luís do Paraitinga', 'São Gonçalo do Pará', 'Jaguaribara',\n",
       "       'Sangão', 'Gilbués', 'São José do Calçado', 'Guajeru',\n",
       "       'São Miguel Das Matas', 'Rincão', 'Porto Firme', 'Babaçulândia',\n",
       "       'Santa fé', 'Pacaraima', 'Luiz Alves', 'Maxaranguape',\n",
       "       'Sucupira do Norte', 'Irineópolis', 'Tapera', 'Jauru',\n",
       "       'Bom Repouso', 'Cumaru do Norte', 'Congonhal',\n",
       "       'São Bento do Sapucaí', 'Matias Olímpio', 'Missal',\n",
       "       'Espírito Santo', 'São Miguel do Tocantins', 'Ararendá', 'Itapebi',\n",
       "       'Abaiara', 'Marcionílio Souza', 'Mirante',\n",
       "       'Governador Jorge Teixeira', 'Baixa Grande do Ribeiro',\n",
       "       'Lagoa Grande do Maranhão'], dtype=object)"
      ]
     },
     "execution_count": 29,
     "metadata": {},
     "output_type": "execute_result"
    }
   ],
   "source": [
    "df['CidadeResidencia'].unique()"
   ]
  },
  {
   "cell_type": "code",
   "execution_count": 42,
   "metadata": {
    "ExecuteTime": {
     "end_time": "2020-04-19T16:25:58.173840Z",
     "start_time": "2020-04-19T16:25:57.876010Z"
    }
   },
   "outputs": [
    {
     "data": {
      "text/plain": [
       "<matplotlib.axes._subplots.AxesSubplot at 0x23835d36978>"
      ]
     },
     "execution_count": 42,
     "metadata": {},
     "output_type": "execute_result"
    },
    {
     "data": {
      "image/png": "[encoded data removed]",
      "text/plain": [
       "<Figure size 720x432 with 1 Axes>"
      ]
     },
     "metadata": {
      "needs_background": "light"
     },
     "output_type": "display_data"
    }
   ],
   "source": [
    "df['UF'].value_counts().sort_values().plot.barh(figsize=(10, 6))"
   ]
  },
  {
   "cell_type": "code",
   "execution_count": 44,
   "metadata": {
    "ExecuteTime": {
     "end_time": "2020-04-19T16:26:49.806016Z",
     "start_time": "2020-04-19T16:26:49.797023Z"
    }
   },
   "outputs": [
    {
     "data": {
      "text/plain": [
       "pandas.core.frame.DataFrame"
      ]
     },
     "execution_count": 44,
     "metadata": {},
     "output_type": "execute_result"
    }
   ],
   "source": [
    "type(df)"
   ]
  },
  {
   "cell_type": "code",
   "execution_count": 45,
   "metadata": {
    "ExecuteTime": {
     "end_time": "2020-04-19T16:26:55.634111Z",
     "start_time": "2020-04-19T16:26:55.628114Z"
    }
   },
   "outputs": [
    {
     "data": {
      "text/plain": [
       "pandas.core.series.Series"
      ]
     },
     "execution_count": 45,
     "metadata": {},
     "output_type": "execute_result"
    }
   ],
   "source": [
    "type(df['UF'])"
   ]
  },
  {
   "cell_type": "code",
   "execution_count": 48,
   "metadata": {
    "ExecuteTime": {
     "end_time": "2020-04-19T16:27:24.668568Z",
     "start_time": "2020-04-19T16:27:24.661572Z"
    }
   },
   "outputs": [
    {
     "data": {
      "text/plain": [
       "26"
      ]
     },
     "execution_count": 48,
     "metadata": {},
     "output_type": "execute_result"
    }
   ],
   "source": [
    "df['UF'].nunique()"
   ]
  },
  {
   "cell_type": "code",
   "execution_count": 47,
   "metadata": {
    "ExecuteTime": {
     "end_time": "2020-04-19T16:27:11.366651Z",
     "start_time": "2020-04-19T16:27:11.339666Z"
    }
   },
   "outputs": [
    {
     "data": {
      "text/html": [
       "<div>\n",
       "<style scoped>\n",
       "    .dataframe tbody tr th:only-of-type {\n",
       "        vertical-align: middle;\n",
       "    }\n",
       "\n",
       "    .dataframe tbody tr th {\n",
       "        vertical-align: top;\n",
       "    }\n",
       "\n",
       "    .dataframe thead th {\n",
       "        text-align: right;\n",
       "    }\n",
       "</style>\n",
       "<table border=\"1\" class=\"dataframe\">\n",
       "  <thead>\n",
       "    <tr style=\"text-align: right;\">\n",
       "      <th></th>\n",
       "      <th>AC</th>\n",
       "      <th>AL</th>\n",
       "      <th>AM</th>\n",
       "      <th>AP</th>\n",
       "      <th>BA</th>\n",
       "      <th>CE</th>\n",
       "      <th>ES</th>\n",
       "      <th>GO</th>\n",
       "      <th>MA</th>\n",
       "      <th>MG</th>\n",
       "      <th>...</th>\n",
       "      <th>PR</th>\n",
       "      <th>RJ</th>\n",
       "      <th>RN</th>\n",
       "      <th>RO</th>\n",
       "      <th>RR</th>\n",
       "      <th>RS</th>\n",
       "      <th>SC</th>\n",
       "      <th>SE</th>\n",
       "      <th>SP</th>\n",
       "      <th>TO</th>\n",
       "    </tr>\n",
       "  </thead>\n",
       "  <tbody>\n",
       "    <tr>\n",
       "      <th>0</th>\n",
       "      <td>0</td>\n",
       "      <td>0</td>\n",
       "      <td>0</td>\n",
       "      <td>0</td>\n",
       "      <td>0</td>\n",
       "      <td>0</td>\n",
       "      <td>0</td>\n",
       "      <td>0</td>\n",
       "      <td>0</td>\n",
       "      <td>1</td>\n",
       "      <td>...</td>\n",
       "      <td>0</td>\n",
       "      <td>0</td>\n",
       "      <td>0</td>\n",
       "      <td>0</td>\n",
       "      <td>0</td>\n",
       "      <td>0</td>\n",
       "      <td>0</td>\n",
       "      <td>0</td>\n",
       "      <td>0</td>\n",
       "      <td>0</td>\n",
       "    </tr>\n",
       "    <tr>\n",
       "      <th>1</th>\n",
       "      <td>0</td>\n",
       "      <td>0</td>\n",
       "      <td>0</td>\n",
       "      <td>0</td>\n",
       "      <td>0</td>\n",
       "      <td>0</td>\n",
       "      <td>0</td>\n",
       "      <td>0</td>\n",
       "      <td>0</td>\n",
       "      <td>0</td>\n",
       "      <td>...</td>\n",
       "      <td>0</td>\n",
       "      <td>0</td>\n",
       "      <td>1</td>\n",
       "      <td>0</td>\n",
       "      <td>0</td>\n",
       "      <td>0</td>\n",
       "      <td>0</td>\n",
       "      <td>0</td>\n",
       "      <td>0</td>\n",
       "      <td>0</td>\n",
       "    </tr>\n",
       "    <tr>\n",
       "      <th>2</th>\n",
       "      <td>0</td>\n",
       "      <td>0</td>\n",
       "      <td>0</td>\n",
       "      <td>0</td>\n",
       "      <td>0</td>\n",
       "      <td>0</td>\n",
       "      <td>0</td>\n",
       "      <td>0</td>\n",
       "      <td>0</td>\n",
       "      <td>0</td>\n",
       "      <td>...</td>\n",
       "      <td>1</td>\n",
       "      <td>0</td>\n",
       "      <td>0</td>\n",
       "      <td>0</td>\n",
       "      <td>0</td>\n",
       "      <td>0</td>\n",
       "      <td>0</td>\n",
       "      <td>0</td>\n",
       "      <td>0</td>\n",
       "      <td>0</td>\n",
       "    </tr>\n",
       "    <tr>\n",
       "      <th>3</th>\n",
       "      <td>0</td>\n",
       "      <td>0</td>\n",
       "      <td>0</td>\n",
       "      <td>0</td>\n",
       "      <td>0</td>\n",
       "      <td>0</td>\n",
       "      <td>0</td>\n",
       "      <td>0</td>\n",
       "      <td>0</td>\n",
       "      <td>0</td>\n",
       "      <td>...</td>\n",
       "      <td>1</td>\n",
       "      <td>0</td>\n",
       "      <td>0</td>\n",
       "      <td>0</td>\n",
       "      <td>0</td>\n",
       "      <td>0</td>\n",
       "      <td>0</td>\n",
       "      <td>0</td>\n",
       "      <td>0</td>\n",
       "      <td>0</td>\n",
       "    </tr>\n",
       "    <tr>\n",
       "      <th>4</th>\n",
       "      <td>0</td>\n",
       "      <td>0</td>\n",
       "      <td>0</td>\n",
       "      <td>0</td>\n",
       "      <td>1</td>\n",
       "      <td>0</td>\n",
       "      <td>0</td>\n",
       "      <td>0</td>\n",
       "      <td>0</td>\n",
       "      <td>0</td>\n",
       "      <td>...</td>\n",
       "      <td>0</td>\n",
       "      <td>0</td>\n",
       "      <td>0</td>\n",
       "      <td>0</td>\n",
       "      <td>0</td>\n",
       "      <td>0</td>\n",
       "      <td>0</td>\n",
       "      <td>0</td>\n",
       "      <td>0</td>\n",
       "      <td>0</td>\n",
       "    </tr>\n",
       "    <tr>\n",
       "      <th>...</th>\n",
       "      <td>...</td>\n",
       "      <td>...</td>\n",
       "      <td>...</td>\n",
       "      <td>...</td>\n",
       "      <td>...</td>\n",
       "      <td>...</td>\n",
       "      <td>...</td>\n",
       "      <td>...</td>\n",
       "      <td>...</td>\n",
       "      <td>...</td>\n",
       "      <td>...</td>\n",
       "      <td>...</td>\n",
       "      <td>...</td>\n",
       "      <td>...</td>\n",
       "      <td>...</td>\n",
       "      <td>...</td>\n",
       "      <td>...</td>\n",
       "      <td>...</td>\n",
       "      <td>...</td>\n",
       "      <td>...</td>\n",
       "      <td>...</td>\n",
       "    </tr>\n",
       "    <tr>\n",
       "      <th>886</th>\n",
       "      <td>0</td>\n",
       "      <td>0</td>\n",
       "      <td>0</td>\n",
       "      <td>0</td>\n",
       "      <td>1</td>\n",
       "      <td>0</td>\n",
       "      <td>0</td>\n",
       "      <td>0</td>\n",
       "      <td>0</td>\n",
       "      <td>0</td>\n",
       "      <td>...</td>\n",
       "      <td>0</td>\n",
       "      <td>0</td>\n",
       "      <td>0</td>\n",
       "      <td>0</td>\n",
       "      <td>0</td>\n",
       "      <td>0</td>\n",
       "      <td>0</td>\n",
       "      <td>0</td>\n",
       "      <td>0</td>\n",
       "      <td>0</td>\n",
       "    </tr>\n",
       "    <tr>\n",
       "      <th>887</th>\n",
       "      <td>0</td>\n",
       "      <td>0</td>\n",
       "      <td>0</td>\n",
       "      <td>0</td>\n",
       "      <td>1</td>\n",
       "      <td>0</td>\n",
       "      <td>0</td>\n",
       "      <td>0</td>\n",
       "      <td>0</td>\n",
       "      <td>0</td>\n",
       "      <td>...</td>\n",
       "      <td>0</td>\n",
       "      <td>0</td>\n",
       "      <td>0</td>\n",
       "      <td>0</td>\n",
       "      <td>0</td>\n",
       "      <td>0</td>\n",
       "      <td>0</td>\n",
       "      <td>0</td>\n",
       "      <td>0</td>\n",
       "      <td>0</td>\n",
       "    </tr>\n",
       "    <tr>\n",
       "      <th>888</th>\n",
       "      <td>0</td>\n",
       "      <td>0</td>\n",
       "      <td>0</td>\n",
       "      <td>0</td>\n",
       "      <td>0</td>\n",
       "      <td>0</td>\n",
       "      <td>0</td>\n",
       "      <td>0</td>\n",
       "      <td>0</td>\n",
       "      <td>0</td>\n",
       "      <td>...</td>\n",
       "      <td>0</td>\n",
       "      <td>0</td>\n",
       "      <td>0</td>\n",
       "      <td>1</td>\n",
       "      <td>0</td>\n",
       "      <td>0</td>\n",
       "      <td>0</td>\n",
       "      <td>0</td>\n",
       "      <td>0</td>\n",
       "      <td>0</td>\n",
       "    </tr>\n",
       "    <tr>\n",
       "      <th>889</th>\n",
       "      <td>0</td>\n",
       "      <td>0</td>\n",
       "      <td>0</td>\n",
       "      <td>0</td>\n",
       "      <td>0</td>\n",
       "      <td>0</td>\n",
       "      <td>0</td>\n",
       "      <td>0</td>\n",
       "      <td>0</td>\n",
       "      <td>0</td>\n",
       "      <td>...</td>\n",
       "      <td>0</td>\n",
       "      <td>0</td>\n",
       "      <td>0</td>\n",
       "      <td>0</td>\n",
       "      <td>0</td>\n",
       "      <td>0</td>\n",
       "      <td>0</td>\n",
       "      <td>0</td>\n",
       "      <td>0</td>\n",
       "      <td>0</td>\n",
       "    </tr>\n",
       "    <tr>\n",
       "      <th>890</th>\n",
       "      <td>0</td>\n",
       "      <td>0</td>\n",
       "      <td>0</td>\n",
       "      <td>0</td>\n",
       "      <td>0</td>\n",
       "      <td>0</td>\n",
       "      <td>0</td>\n",
       "      <td>0</td>\n",
       "      <td>1</td>\n",
       "      <td>0</td>\n",
       "      <td>...</td>\n",
       "      <td>0</td>\n",
       "      <td>0</td>\n",
       "      <td>0</td>\n",
       "      <td>0</td>\n",
       "      <td>0</td>\n",
       "      <td>0</td>\n",
       "      <td>0</td>\n",
       "      <td>0</td>\n",
       "      <td>0</td>\n",
       "      <td>0</td>\n",
       "    </tr>\n",
       "  </tbody>\n",
       "</table>\n",
       "<p>891 rows × 26 columns</p>\n",
       "</div>"
      ],
      "text/plain": [
       "     AC  AL  AM  AP  BA  CE  ES  GO  MA  MG  ...  PR  RJ  RN  RO  RR  RS  SC  \\\n",
       "0     0   0   0   0   0   0   0   0   0   1  ...   0   0   0   0   0   0   0   \n",
       "1     0   0   0   0   0   0   0   0   0   0  ...   0   0   1   0   0   0   0   \n",
       "2     0   0   0   0   0   0   0   0   0   0  ...   1   0   0   0   0   0   0   \n",
       "3     0   0   0   0   0   0   0   0   0   0  ...   1   0   0   0   0   0   0   \n",
       "4     0   0   0   0   1   0   0   0   0   0  ...   0   0   0   0   0   0   0   \n",
       "..   ..  ..  ..  ..  ..  ..  ..  ..  ..  ..  ...  ..  ..  ..  ..  ..  ..  ..   \n",
       "886   0   0   0   0   1   0   0   0   0   0  ...   0   0   0   0   0   0   0   \n",
       "887   0   0   0   0   1   0   0   0   0   0  ...   0   0   0   0   0   0   0   \n",
       "888   0   0   0   0   0   0   0   0   0   0  ...   0   0   0   1   0   0   0   \n",
       "889   0   0   0   0   0   0   0   0   0   0  ...   0   0   0   0   0   0   0   \n",
       "890   0   0   0   0   0   0   0   0   1   0  ...   0   0   0   0   0   0   0   \n",
       "\n",
       "     SE  SP  TO  \n",
       "0     0   0   0  \n",
       "1     0   0   0  \n",
       "2     0   0   0  \n",
       "3     0   0   0  \n",
       "4     0   0   0  \n",
       "..   ..  ..  ..  \n",
       "886   0   0   0  \n",
       "887   0   0   0  \n",
       "888   0   0   0  \n",
       "889   0   0   0  \n",
       "890   0   0   0  \n",
       "\n",
       "[891 rows x 26 columns]"
      ]
     },
     "execution_count": 47,
     "metadata": {},
     "output_type": "execute_result"
    }
   ],
   "source": [
    "pd.get_dummies(df['UF'])"
   ]
  },
  {
   "cell_type": "code",
   "execution_count": 52,
   "metadata": {
    "ExecuteTime": {
     "end_time": "2020-04-19T16:29:30.818967Z",
     "start_time": "2020-04-19T16:29:30.813972Z"
    }
   },
   "outputs": [
    {
     "data": {
      "text/plain": [
       "891"
      ]
     },
     "execution_count": 52,
     "metadata": {},
     "output_type": "execute_result"
    }
   ],
   "source": [
    "df['ID'].nunique()"
   ]
  },
  {
   "cell_type": "code",
   "execution_count": 71,
   "metadata": {
    "ExecuteTime": {
     "end_time": "2020-04-19T16:33:46.137813Z",
     "start_time": "2020-04-19T16:33:46.132815Z"
    }
   },
   "outputs": [],
   "source": [
    "df.drop(['ID', 'UF', 'CidadeResidencia', 'RegiaodoPais'],\n",
    "        axis=1, inplace=True)"
   ]
  },
  {
   "cell_type": "code",
   "execution_count": 76,
   "metadata": {
    "ExecuteTime": {
     "end_time": "2020-04-19T16:35:18.935868Z",
     "start_time": "2020-04-19T16:35:18.756953Z"
    }
   },
   "outputs": [
    {
     "data": {
      "text/plain": [
       "<matplotlib.axes._subplots.AxesSubplot at 0x23835f15e48>"
      ]
     },
     "execution_count": 76,
     "metadata": {},
     "output_type": "execute_result"
    },
    {
     "data": {
      "image/png": "[encoded data removed]",
      "text/plain": [
       "<Figure size 432x288 with 1 Axes>"
      ]
     },
     "metadata": {
      "needs_background": "light"
     },
     "output_type": "display_data"
    }
   ],
   "source": [
    "df['GrupoRisco'].value_counts().sort_index().plot.barh()"
   ]
  },
  {
   "cell_type": "code",
   "execution_count": 73,
   "metadata": {
    "ExecuteTime": {
     "end_time": "2020-04-19T16:33:51.117972Z",
     "start_time": "2020-04-19T16:33:51.110990Z"
    }
   },
   "outputs": [
    {
     "data": {
      "text/plain": [
       "Target                   int64\n",
       "GrupoEconomico           int64\n",
       "Sexo                    object\n",
       "Idade                    int64\n",
       "GrupoRisco               int64\n",
       "ValorCompraAnual       float64\n",
       "GastoMax               float64\n",
       "GastoMedio             float64\n",
       "NumeroComprasOnline    float64\n",
       "dtype: object"
      ]
     },
     "execution_count": 73,
     "metadata": {},
     "output_type": "execute_result"
    }
   ],
   "source": [
    "df.dtypes"
   ]
  },
  {
   "cell_type": "code",
   "execution_count": 78,
   "metadata": {
    "ExecuteTime": {
     "end_time": "2020-04-19T16:35:53.722356Z",
     "start_time": "2020-04-19T16:35:53.717344Z"
    }
   },
   "outputs": [
    {
     "data": {
      "text/plain": [
       "pandas.core.frame.DataFrame"
      ]
     },
     "execution_count": 78,
     "metadata": {},
     "output_type": "execute_result"
    }
   ],
   "source": [
    "type(df)"
   ]
  },
  {
   "cell_type": "code",
   "execution_count": 85,
   "metadata": {
    "ExecuteTime": {
     "end_time": "2020-04-19T16:37:37.127251Z",
     "start_time": "2020-04-19T16:37:37.120257Z"
    }
   },
   "outputs": [],
   "source": [
    "df['GrupoEconomico'] = df['GrupoEconomico'].astype(str)\n",
    "df['GrupoRisco'] = df['GrupoRisco'].astype(str)"
   ]
  },
  {
   "cell_type": "code",
   "execution_count": 94,
   "metadata": {
    "ExecuteTime": {
     "end_time": "2020-04-19T16:40:15.286132Z",
     "start_time": "2020-04-19T16:40:15.272141Z"
    }
   },
   "outputs": [],
   "source": [
    "import missingno as msno"
   ]
  },
  {
   "cell_type": "code",
   "execution_count": 95,
   "metadata": {
    "ExecuteTime": {
     "end_time": "2020-04-19T16:40:20.634885Z",
     "start_time": "2020-04-19T16:40:19.909892Z"
    }
   },
   "outputs": [
    {
     "data": {
      "text/plain": [
       "<matplotlib.axes._subplots.AxesSubplot at 0x23837410dd8>"
      ]
     },
     "execution_count": 95,
     "metadata": {},
     "output_type": "execute_result"
    },
    {
     "data": {
      "image/png": "[encoded data removed]",
      "text/plain": [
       "<Figure size 1728x720 with 3 Axes>"
      ]
     },
     "metadata": {
      "needs_background": "light"
     },
     "output_type": "display_data"
    }
   ],
   "source": [
    "msno.bar(df)"
   ]
  },
  {
   "cell_type": "code",
   "execution_count": 96,
   "metadata": {
    "ExecuteTime": {
     "end_time": "2020-04-19T16:40:34.431459Z",
     "start_time": "2020-04-19T16:40:34.422464Z"
    }
   },
   "outputs": [
    {
     "data": {
      "text/plain": [
       "Target                  0\n",
       "GrupoEconomico          0\n",
       "Sexo                    0\n",
       "Idade                   0\n",
       "GrupoRisco              0\n",
       "ValorCompraAnual       28\n",
       "GastoMax                0\n",
       "GastoMedio              0\n",
       "NumeroComprasOnline     0\n",
       "dtype: int64"
      ]
     },
     "execution_count": 96,
     "metadata": {},
     "output_type": "execute_result"
    }
   ],
   "source": [
    "df.isnull().sum()"
   ]
  },
  {
   "cell_type": "code",
   "execution_count": 99,
   "metadata": {
    "ExecuteTime": {
     "end_time": "2020-04-19T16:40:48.553956Z",
     "start_time": "2020-04-19T16:40:48.548958Z"
    }
   },
   "outputs": [
    {
     "data": {
      "text/plain": [
       "0.031425364758698095"
      ]
     },
     "execution_count": 99,
     "metadata": {},
     "output_type": "execute_result"
    }
   ],
   "source": [
    "28/ df.shape[0]"
   ]
  },
  {
   "cell_type": "code",
   "execution_count": 100,
   "metadata": {
    "ExecuteTime": {
     "end_time": "2020-04-19T16:41:05.285148Z",
     "start_time": "2020-04-19T16:41:05.278135Z"
    }
   },
   "outputs": [],
   "source": [
    "df.dropna(inplace=True)\n",
    "\n",
    "# df = df.dropna()"
   ]
  },
  {
   "cell_type": "code",
   "execution_count": 101,
   "metadata": {
    "ExecuteTime": {
     "end_time": "2020-04-19T16:41:09.119674Z",
     "start_time": "2020-04-19T16:41:09.105663Z"
    }
   },
   "outputs": [],
   "source": [
    "df_dummies = pd.get_dummies(df[['Sexo', 'GrupoEconomico', 'GrupoRisco']],\n",
    "                            drop_first=True)"
   ]
  },
  {
   "cell_type": "code",
   "execution_count": 102,
   "metadata": {
    "ExecuteTime": {
     "end_time": "2020-04-19T16:41:11.302593Z",
     "start_time": "2020-04-19T16:41:11.293620Z"
    }
   },
   "outputs": [],
   "source": [
    "df_no_dummies = df[['Target', 'Idade', 'ValorCompraAnual',\n",
    "                   'GastoMax', 'GastoMedio', 'NumeroComprasOnline']]"
   ]
  },
  {
   "cell_type": "code",
   "execution_count": 111,
   "metadata": {
    "ExecuteTime": {
     "end_time": "2020-04-19T16:43:55.606969Z",
     "start_time": "2020-04-19T16:43:55.601975Z"
    }
   },
   "outputs": [],
   "source": [
    "df_final = pd.concat([df_no_dummies, df_dummies], axis=1)"
   ]
  },
  {
   "cell_type": "code",
   "execution_count": 116,
   "metadata": {
    "ExecuteTime": {
     "end_time": "2020-04-19T16:45:05.610151Z",
     "start_time": "2020-04-19T16:45:05.317027Z"
    }
   },
   "outputs": [
    {
     "data": {
      "text/plain": [
       "<matplotlib.axes._subplots.AxesSubplot at 0x23837638f60>"
      ]
     },
     "execution_count": 116,
     "metadata": {},
     "output_type": "execute_result"
    },
    {
     "data": {
      "image/png": "[encoded data removed]",
      "text/plain": [
       "<Figure size 720x288 with 1 Axes>"
      ]
     },
     "metadata": {
      "needs_background": "light"
     },
     "output_type": "display_data"
    }
   ],
   "source": [
    "df_final['Idade'].hist(figsize=(10, 4), grid=False, bins=50)"
   ]
  },
  {
   "cell_type": "code",
   "execution_count": 120,
   "metadata": {
    "ExecuteTime": {
     "end_time": "2020-04-19T16:46:31.177607Z",
     "start_time": "2020-04-19T16:46:30.846800Z"
    }
   },
   "outputs": [
    {
     "data": {
      "text/plain": [
       "<matplotlib.axes._subplots.AxesSubplot at 0x238326747f0>"
      ]
     },
     "execution_count": 120,
     "metadata": {},
     "output_type": "execute_result"
    },
    {
     "data": {
      "image/png": "[encoded data removed]",
      "text/plain": [
       "<Figure size 432x288 with 1 Axes>"
      ]
     },
     "metadata": {
      "needs_background": "light"
     },
     "output_type": "display_data"
    }
   ],
   "source": [
    "sns.distplot(df_final['NumeroComprasOnline'])"
   ]
  },
  {
   "cell_type": "markdown",
   "metadata": {},
   "source": [
    "- Modelos supervisionados: tem target (categórica ou numérica)\n",
    "\n",
    "- Modelos não-supervisionados: não tem target - clusterização"
   ]
  },
  {
   "cell_type": "code",
   "execution_count": 122,
   "metadata": {
    "ExecuteTime": {
     "end_time": "2020-04-19T16:50:25.509782Z",
     "start_time": "2020-04-19T16:50:25.504788Z"
    }
   },
   "outputs": [
    {
     "data": {
      "text/plain": [
       "(863, 15)"
      ]
     },
     "execution_count": 122,
     "metadata": {},
     "output_type": "execute_result"
    }
   ],
   "source": [
    "df_final.shape"
   ]
  },
  {
   "cell_type": "code",
   "execution_count": 124,
   "metadata": {
    "ExecuteTime": {
     "end_time": "2020-04-19T16:51:55.966884Z",
     "start_time": "2020-04-19T16:51:55.960869Z"
    }
   },
   "outputs": [],
   "source": [
    "x = df_final.drop('Target', axis=1)\n",
    "y = df_final['Target']"
   ]
  },
  {
   "cell_type": "code",
   "execution_count": 123,
   "metadata": {
    "ExecuteTime": {
     "end_time": "2020-04-19T16:51:28.316130Z",
     "start_time": "2020-04-19T16:51:28.312118Z"
    }
   },
   "outputs": [],
   "source": [
    "from sklearn.model_selection import train_test_split"
   ]
  },
  {
   "cell_type": "code",
   "execution_count": 142,
   "metadata": {
    "ExecuteTime": {
     "end_time": "2020-04-19T16:55:50.826059Z",
     "start_time": "2020-04-19T16:55:50.807067Z"
    }
   },
   "outputs": [],
   "source": [
    "x_train, x_test, y_train, y_test = train_test_split(x, y, random_state=42)"
   ]
  },
  {
   "cell_type": "code",
   "execution_count": 144,
   "metadata": {
    "ExecuteTime": {
     "end_time": "2020-04-19T16:57:30.223609Z",
     "start_time": "2020-04-19T16:57:30.218615Z"
    }
   },
   "outputs": [],
   "source": [
    "from sklearn.tree import DecisionTreeClassifier\n",
    "from sklearn.linear_model import LogisticRegression\n",
    "from sklearn.naive_bayes import GaussianNB\n",
    "from sklearn.svm import SVC\n",
    "from sklearn.ensemble import RandomForestClassifier"
   ]
  },
  {
   "cell_type": "markdown",
   "metadata": {},
   "source": [
    "grid search ou random search"
   ]
  },
  {
   "cell_type": "code",
   "execution_count": 147,
   "metadata": {
    "ExecuteTime": {
     "end_time": "2020-04-19T17:04:25.019999Z",
     "start_time": "2020-04-19T17:04:25.016003Z"
    }
   },
   "outputs": [],
   "source": [
    "clf_dt = DecisionTreeClassifier()\n",
    "clf_lr = LogisticRegression(solver='liblinear')\n",
    "clf_nb = GaussianNB()\n",
    "clf_svm = SVC()\n",
    "clf_rf = RandomForestClassifier()"
   ]
  },
  {
   "cell_type": "markdown",
   "metadata": {},
   "source": [
    "- overfitting = sobre ajuste dos dados\n",
    "- underfitting = sub ajuste dos dados"
   ]
  },
  {
   "cell_type": "code",
   "execution_count": 148,
   "metadata": {
    "ExecuteTime": {
     "end_time": "2020-04-19T17:04:27.623466Z",
     "start_time": "2020-04-19T17:04:27.609473Z"
    }
   },
   "outputs": [
    {
     "data": {
      "text/plain": [
       "DecisionTreeClassifier(ccp_alpha=0.0, class_weight=None, criterion='gini',\n",
       "                       max_depth=None, max_features=None, max_leaf_nodes=None,\n",
       "                       min_impurity_decrease=0.0, min_impurity_split=None,\n",
       "                       min_samples_leaf=1, min_samples_split=2,\n",
       "                       min_weight_fraction_leaf=0.0, presort='deprecated',\n",
       "                       random_state=None, splitter='best')"
      ]
     },
     "execution_count": 148,
     "metadata": {},
     "output_type": "execute_result"
    }
   ],
   "source": [
    "clf_dt.fit(x_train, y_train)"
   ]
  },
  {
   "cell_type": "code",
   "execution_count": 151,
   "metadata": {
    "ExecuteTime": {
     "end_time": "2020-04-19T17:06:06.194208Z",
     "start_time": "2020-04-19T17:06:06.188208Z"
    }
   },
   "outputs": [],
   "source": [
    "y_pred = clf_dt.predict(x_test)"
   ]
  },
  {
   "cell_type": "code",
   "execution_count": 154,
   "metadata": {
    "ExecuteTime": {
     "end_time": "2020-04-19T17:07:09.730014Z",
     "start_time": "2020-04-19T17:07:09.726017Z"
    }
   },
   "outputs": [],
   "source": [
    "from sklearn.metrics import confusion_matrix, plot_confusion_matrix"
   ]
  },
  {
   "cell_type": "code",
   "execution_count": 155,
   "metadata": {
    "ExecuteTime": {
     "end_time": "2020-04-19T17:07:24.773279Z",
     "start_time": "2020-04-19T17:07:24.767247Z"
    }
   },
   "outputs": [
    {
     "data": {
      "text/plain": [
       "array([[91, 34],\n",
       "       [32, 59]], dtype=int64)"
      ]
     },
     "execution_count": 155,
     "metadata": {},
     "output_type": "execute_result"
    }
   ],
   "source": [
    "confusion_matrix(y_test, y_pred)"
   ]
  },
  {
   "cell_type": "code",
   "execution_count": 157,
   "metadata": {
    "ExecuteTime": {
     "end_time": "2020-04-19T17:08:05.970658Z",
     "start_time": "2020-04-19T17:08:05.965661Z"
    }
   },
   "outputs": [
    {
     "data": {
      "text/plain": [
       "'0.22.2.post1'"
      ]
     },
     "execution_count": 157,
     "metadata": {},
     "output_type": "execute_result"
    }
   ],
   "source": [
    "from sklearn import __version__\n",
    "__version__"
   ]
  },
  {
   "cell_type": "code",
   "execution_count": 168,
   "metadata": {
    "ExecuteTime": {
     "end_time": "2020-04-19T17:19:29.826874Z",
     "start_time": "2020-04-19T17:19:29.822862Z"
    }
   },
   "outputs": [],
   "source": [
    "display_labels = ['não atrasou', 'atrasou']"
   ]
  },
  {
   "cell_type": "code",
   "execution_count": 169,
   "metadata": {
    "ExecuteTime": {
     "end_time": "2020-04-19T17:19:30.996016Z",
     "start_time": "2020-04-19T17:19:30.776876Z"
    }
   },
   "outputs": [
    {
     "data": {
      "text/plain": [
       "<sklearn.metrics._plot.confusion_matrix.ConfusionMatrixDisplay at 0x2383ac9c358>"
      ]
     },
     "execution_count": 169,
     "metadata": {},
     "output_type": "execute_result"
    },
    {
     "data": {
      "image/png": "[encoded data removed]",
      "text/plain": [
       "<Figure size 432x288 with 2 Axes>"
      ]
     },
     "metadata": {
      "needs_background": "light"
     },
     "output_type": "display_data"
    }
   ],
   "source": [
    "plot_confusion_matrix(clf_dt, x_test, y_test,\n",
    "                      display_labels=display_labels,\n",
    "                      cmap='Blues')"
   ]
  },
  {
   "cell_type": "code",
   "execution_count": null,
   "metadata": {},
   "outputs": [],
   "source": [
    "[TN, FP]\n",
    "[FN, TP]"
   ]
  },
  {
   "cell_type": "code",
   "execution_count": 170,
   "metadata": {
    "ExecuteTime": {
     "end_time": "2020-04-19T17:22:00.398321Z",
     "start_time": "2020-04-19T17:22:00.393323Z"
    }
   },
   "outputs": [
    {
     "data": {
      "text/plain": [
       "0.6944444444444444"
      ]
     },
     "execution_count": 170,
     "metadata": {},
     "output_type": "execute_result"
    }
   ],
   "source": [
    "acurácia = (91 + 59) / (91 + 34 + 32 + 59)\n",
    "acurácia"
   ]
  },
  {
   "cell_type": "code",
   "execution_count": 173,
   "metadata": {
    "ExecuteTime": {
     "end_time": "2020-04-19T17:23:21.610831Z",
     "start_time": "2020-04-19T17:23:21.606819Z"
    }
   },
   "outputs": [
    {
     "data": {
      "text/plain": [
       "0.6483516483516484"
      ]
     },
     "execution_count": 173,
     "metadata": {},
     "output_type": "execute_result"
    }
   ],
   "source": [
    "recall = 59 / (59 + 32)\n",
    "recall"
   ]
  },
  {
   "cell_type": "code",
   "execution_count": 176,
   "metadata": {
    "ExecuteTime": {
     "end_time": "2020-04-19T17:23:53.838193Z",
     "start_time": "2020-04-19T17:23:53.832197Z"
    }
   },
   "outputs": [
    {
     "data": {
      "text/plain": [
       "0.6344086021505376"
      ]
     },
     "execution_count": 176,
     "metadata": {},
     "output_type": "execute_result"
    }
   ],
   "source": [
    "precision = 59 / (59 + 34)\n",
    "precision"
   ]
  },
  {
   "cell_type": "code",
   "execution_count": 181,
   "metadata": {
    "ExecuteTime": {
     "end_time": "2020-04-19T17:25:27.479336Z",
     "start_time": "2020-04-19T17:25:27.475338Z"
    }
   },
   "outputs": [],
   "source": [
    "from sklearn.metrics import accuracy_score, recall_score \n",
    "from sklearn.metrics import precision_score, f1_score\n",
    "from sklearn.metrics import classification_report"
   ]
  },
  {
   "cell_type": "code",
   "execution_count": 172,
   "metadata": {
    "ExecuteTime": {
     "end_time": "2020-04-19T17:22:32.528859Z",
     "start_time": "2020-04-19T17:22:32.522862Z"
    }
   },
   "outputs": [
    {
     "data": {
      "text/plain": [
       "0.6944444444444444"
      ]
     },
     "execution_count": 172,
     "metadata": {},
     "output_type": "execute_result"
    }
   ],
   "source": [
    "accuracy_score(y_test, y_pred)"
   ]
  },
  {
   "cell_type": "code",
   "execution_count": 175,
   "metadata": {
    "ExecuteTime": {
     "end_time": "2020-04-19T17:23:32.542112Z",
     "start_time": "2020-04-19T17:23:32.536096Z"
    }
   },
   "outputs": [
    {
     "data": {
      "text/plain": [
       "0.6483516483516484"
      ]
     },
     "execution_count": 175,
     "metadata": {},
     "output_type": "execute_result"
    }
   ],
   "source": [
    "recall_score(y_test, y_pred)"
   ]
  },
  {
   "cell_type": "code",
   "execution_count": 178,
   "metadata": {
    "ExecuteTime": {
     "end_time": "2020-04-19T17:24:07.833700Z",
     "start_time": "2020-04-19T17:24:07.823710Z"
    }
   },
   "outputs": [
    {
     "data": {
      "text/plain": [
       "0.6344086021505376"
      ]
     },
     "execution_count": 178,
     "metadata": {},
     "output_type": "execute_result"
    }
   ],
   "source": [
    "precision_score(y_test, y_pred)"
   ]
  },
  {
   "cell_type": "code",
   "execution_count": 180,
   "metadata": {
    "ExecuteTime": {
     "end_time": "2020-04-19T17:24:40.744064Z",
     "start_time": "2020-04-19T17:24:40.736071Z"
    }
   },
   "outputs": [
    {
     "data": {
      "text/plain": [
       "0.641304347826087"
      ]
     },
     "execution_count": 180,
     "metadata": {},
     "output_type": "execute_result"
    }
   ],
   "source": [
    "f1_score(y_test, y_pred)"
   ]
  },
  {
   "cell_type": "code",
   "execution_count": 185,
   "metadata": {
    "ExecuteTime": {
     "end_time": "2020-04-19T17:26:29.199583Z",
     "start_time": "2020-04-19T17:26:29.190587Z"
    }
   },
   "outputs": [
    {
     "name": "stdout",
     "output_type": "stream",
     "text": [
      "              precision    recall  f1-score   support\n",
      "\n",
      "           0       0.74      0.73      0.73       125\n",
      "           1       0.63      0.65      0.64        91\n",
      "\n",
      "    accuracy                           0.69       216\n",
      "   macro avg       0.69      0.69      0.69       216\n",
      "weighted avg       0.70      0.69      0.69       216\n",
      "\n"
     ]
    }
   ],
   "source": [
    "# decision tree\n",
    "print(classification_report(y_test, y_pred))"
   ]
  },
  {
   "cell_type": "code",
   "execution_count": 169,
   "metadata": {
    "ExecuteTime": {
     "end_time": "2020-04-19T17:19:30.996016Z",
     "start_time": "2020-04-19T17:19:30.776876Z"
    }
   },
   "outputs": [
    {
     "data": {
      "text/plain": [
       "<sklearn.metrics._plot.confusion_matrix.ConfusionMatrixDisplay at 0x2383ac9c358>"
      ]
     },
     "execution_count": 169,
     "metadata": {},
     "output_type": "execute_result"
    },
    {
     "data": {
      "image/png": "[encoded data removed]",
      "text/plain": [
       "<Figure size 432x288 with 2 Axes>"
      ]
     },
     "metadata": {
      "needs_background": "light"
     },
     "output_type": "display_data"
    }
   ],
   "source": [
    "plot_confusion_matrix(clf_dt, x_test, y_test,\n",
    "                      display_labels=display_labels,\n",
    "                      cmap='Blues')"
   ]
  },
  {
   "cell_type": "code",
   "execution_count": 188,
   "metadata": {
    "ExecuteTime": {
     "end_time": "2020-04-19T17:28:50.818809Z",
     "start_time": "2020-04-19T17:28:50.815812Z"
    }
   },
   "outputs": [],
   "source": [
    "from sklearn.tree import plot_tree"
   ]
  },
  {
   "cell_type": "code",
   "execution_count": 198,
   "metadata": {
    "ExecuteTime": {
     "end_time": "2020-04-19T17:32:17.831045Z",
     "start_time": "2020-04-19T17:32:17.824050Z"
    }
   },
   "outputs": [
    {
     "data": {
      "text/plain": [
       "0    408\n",
       "1    239\n",
       "Name: Target, dtype: int64"
      ]
     },
     "execution_count": 198,
     "metadata": {},
     "output_type": "execute_result"
    }
   ],
   "source": [
    "y_train.value_counts()"
   ]
  },
  {
   "cell_type": "code",
   "execution_count": 197,
   "metadata": {
    "ExecuteTime": {
     "end_time": "2020-04-19T17:31:57.066537Z",
     "start_time": "2020-04-19T17:31:56.297602Z"
    }
   },
   "outputs": [
    {
     "data": {
      "image/png": "[encoded data removed]",
      "text/plain": [
       "<Figure size 720x720 with 1 Axes>"
      ]
     },
     "metadata": {
      "needs_background": "light"
     },
     "output_type": "display_data"
    }
   ],
   "source": [
    "plt.figure(figsize=(10, 10))\n",
    "plot_tree(clf_dt, feature_names=x_train.columns,\n",
    "          max_depth=3, fontsize=10, filled=True)\n",
    "plt.show()"
   ]
  },
  {
   "cell_type": "code",
   "execution_count": 203,
   "metadata": {
    "ExecuteTime": {
     "end_time": "2020-04-19T17:35:41.328162Z",
     "start_time": "2020-04-19T17:35:41.009326Z"
    }
   },
   "outputs": [
    {
     "data": {
      "text/plain": [
       "<matplotlib.axes._subplots.AxesSubplot at 0x2383b4ecc88>"
      ]
     },
     "execution_count": 203,
     "metadata": {},
     "output_type": "execute_result"
    },
    {
     "data": {
      "image/png": "[encoded data removed]",
      "text/plain": [
       "<Figure size 432x288 with 1 Axes>"
      ]
     },
     "metadata": {
      "needs_background": "light"
     },
     "output_type": "display_data"
    }
   ],
   "source": [
    "pd.DataFrame(clf_dt.feature_importances_,\n",
    "             index=x_train.columns,\n",
    "             columns=['feat']).sort_values('feat').plot.barh()"
   ]
  },
  {
   "cell_type": "code",
   "execution_count": 204,
   "metadata": {
    "ExecuteTime": {
     "end_time": "2020-04-19T17:37:37.298602Z",
     "start_time": "2020-04-19T17:37:37.293617Z"
    }
   },
   "outputs": [],
   "source": [
    "classifiers = {clf_dt.__class__.__name__: clf_dt,\n",
    "               clf_lr.__class__.__name__: clf_lr,\n",
    "               clf_nb.__class__.__name__: clf_nb,\n",
    "               clf_svm.__class__.__name__: clf_svm,\n",
    "               clf_rf.__class__.__name__: clf_rf}"
   ]
  },
  {
   "cell_type": "code",
   "execution_count": null,
   "metadata": {},
   "outputs": [],
   "source": [
    "df_final -> treino e test"
   ]
  },
  {
   "cell_type": "markdown",
   "metadata": {},
   "source": [
    "validação cruzada ou cross-validation"
   ]
  },
  {
   "cell_type": "code",
   "execution_count": null,
   "metadata": {},
   "outputs": [],
   "source": [
    "treino -> treino e validação"
   ]
  },
  {
   "cell_type": "code",
   "execution_count": null,
   "metadata": {},
   "outputs": [],
   "source": [
    "treino = 100 "
   ]
  },
  {
   "cell_type": "markdown",
   "metadata": {},
   "source": [
    "![](https://miro.medium.com/max/2736/0*P--gozwUfJ0TKtEp.png)"
   ]
  },
  {
   "cell_type": "code",
   "execution_count": 211,
   "metadata": {
    "ExecuteTime": {
     "end_time": "2020-04-19T17:43:00.123693Z",
     "start_time": "2020-04-19T17:43:00.119695Z"
    }
   },
   "outputs": [],
   "source": [
    "from sklearn.model_selection import cross_val_score"
   ]
  },
  {
   "cell_type": "code",
   "execution_count": 212,
   "metadata": {
    "ExecuteTime": {
     "end_time": "2020-04-19T17:45:24.731712Z",
     "start_time": "2020-04-19T17:45:21.579270Z"
    }
   },
   "outputs": [],
   "source": [
    "list_cv_acc = []\n",
    "list_test_acc = []\n",
    "\n",
    "for name, clf in classifiers.items():\n",
    "    list_cv_acc.append(cross_val_score(clf, x_train, y_train,\n",
    "                                        cv=10, scoring='accuracy'))\n",
    "    clf.fit(x_train, y_train)\n",
    "    y_pred = clf.predict(x_test)\n",
    "    list_test_acc.append(accuracy_score(y_test, y_pred))"
   ]
  },
  {
   "cell_type": "code",
   "execution_count": 225,
   "metadata": {
    "ExecuteTime": {
     "end_time": "2020-04-19T17:48:02.133592Z",
     "start_time": "2020-04-19T17:48:02.127594Z"
    }
   },
   "outputs": [],
   "source": [
    "df_cv_acc = pd.DataFrame(list_cv_acc,\n",
    "                         index=classifiers.keys()).T"
   ]
  },
  {
   "cell_type": "code",
   "execution_count": 224,
   "metadata": {
    "ExecuteTime": {
     "end_time": "2020-04-19T17:47:59.961317Z",
     "start_time": "2020-04-19T17:47:59.956320Z"
    }
   },
   "outputs": [],
   "source": [
    "df_test_acc = pd.DataFrame(list_test_acc,\n",
    "                           index=classifiers.keys(),\n",
    "                           columns=['acc'])"
   ]
  },
  {
   "cell_type": "code",
   "execution_count": 228,
   "metadata": {
    "ExecuteTime": {
     "end_time": "2020-04-19T17:48:34.365861Z",
     "start_time": "2020-04-19T17:48:34.123008Z"
    }
   },
   "outputs": [
    {
     "data": {
      "text/plain": [
       "<matplotlib.axes._subplots.AxesSubplot at 0x2383b6aae80>"
      ]
     },
     "execution_count": 228,
     "metadata": {},
     "output_type": "execute_result"
    },
    {
     "data": {
      "image/png": "[encoded data removed]",
      "text/plain": [
       "<Figure size 720x288 with 1 Axes>"
      ]
     },
     "metadata": {
      "needs_background": "light"
     },
     "output_type": "display_data"
    }
   ],
   "source": [
    "plt.figure(figsize=(10, 4))\n",
    "sns.boxplot(data=df_cv_acc)"
   ]
  },
  {
   "cell_type": "code",
   "execution_count": 231,
   "metadata": {
    "ExecuteTime": {
     "end_time": "2020-04-19T17:49:54.069513Z",
     "start_time": "2020-04-19T17:49:53.846641Z"
    }
   },
   "outputs": [
    {
     "data": {
      "text/plain": [
       "<matplotlib.axes._subplots.AxesSubplot at 0x2383b28cfd0>"
      ]
     },
     "execution_count": 231,
     "metadata": {},
     "output_type": "execute_result"
    },
    {
     "data": {
      "image/png": "[encoded data removed]",
      "text/plain": [
       "<Figure size 432x288 with 1 Axes>"
      ]
     },
     "metadata": {
      "needs_background": "light"
     },
     "output_type": "display_data"
    }
   ],
   "source": [
    "df_test_acc.sort_values('acc').plot.barh()"
   ]
  },
  {
   "cell_type": "code",
   "execution_count": 232,
   "metadata": {
    "ExecuteTime": {
     "end_time": "2020-04-19T17:50:29.830054Z",
     "start_time": "2020-04-19T17:50:29.511233Z"
    },
    "scrolled": true
   },
   "outputs": [
    {
     "data": {
      "text/plain": [
       "<matplotlib.axes._subplots.AxesSubplot at 0x2383b2021d0>"
      ]
     },
     "execution_count": 232,
     "metadata": {},
     "output_type": "execute_result"
    },
    {
     "data": {
      "image/png": "[encoded data removed]",
      "text/plain": [
       "<Figure size 432x288 with 1 Axes>"
      ]
     },
     "metadata": {
      "needs_background": "light"
     },
     "output_type": "display_data"
    }
   ],
   "source": [
    "pd.DataFrame(clf_rf.feature_importances_,\n",
    "             index=x_train.columns,\n",
    "             columns=['feat']).sort_values('feat').plot.barh()"
   ]
  },
  {
   "cell_type": "code",
   "execution_count": 185,
   "metadata": {
    "ExecuteTime": {
     "end_time": "2020-04-19T17:26:29.199583Z",
     "start_time": "2020-04-19T17:26:29.190587Z"
    }
   },
   "outputs": [
    {
     "name": "stdout",
     "output_type": "stream",
     "text": [
      "              precision    recall  f1-score   support\n",
      "\n",
      "           0       0.74      0.73      0.73       125\n",
      "           1       0.63      0.65      0.64        91\n",
      "\n",
      "    accuracy                           0.69       216\n",
      "   macro avg       0.69      0.69      0.69       216\n",
      "weighted avg       0.70      0.69      0.69       216\n",
      "\n"
     ]
    }
   ],
   "source": [
    "# decision tree\n",
    "print(classification_report(y_test, y_pred))"
   ]
  },
  {
   "cell_type": "code",
   "execution_count": 234,
   "metadata": {
    "ExecuteTime": {
     "end_time": "2020-04-19T17:51:44.138690Z",
     "start_time": "2020-04-19T17:51:44.128699Z"
    }
   },
   "outputs": [
    {
     "name": "stdout",
     "output_type": "stream",
     "text": [
      "              precision    recall  f1-score   support\n",
      "\n",
      "           0       0.78      0.80      0.79       125\n",
      "           1       0.71      0.68      0.70        91\n",
      "\n",
      "    accuracy                           0.75       216\n",
      "   macro avg       0.74      0.74      0.74       216\n",
      "weighted avg       0.75      0.75      0.75       216\n",
      "\n"
     ]
    }
   ],
   "source": [
    "# random forest\n",
    "print(classification_report(y_test, y_pred))"
   ]
  },
  {
   "cell_type": "code",
   "execution_count": 169,
   "metadata": {
    "ExecuteTime": {
     "end_time": "2020-04-19T17:19:30.996016Z",
     "start_time": "2020-04-19T17:19:30.776876Z"
    }
   },
   "outputs": [
    {
     "data": {
      "text/plain": [
       "<sklearn.metrics._plot.confusion_matrix.ConfusionMatrixDisplay at 0x2383ac9c358>"
      ]
     },
     "execution_count": 169,
     "metadata": {},
     "output_type": "execute_result"
    },
    {
     "data": {
      "image/png": "[encoded data removed]",
      "text/plain": [
       "<Figure size 432x288 with 2 Axes>"
      ]
     },
     "metadata": {
      "needs_background": "light"
     },
     "output_type": "display_data"
    }
   ],
   "source": [
    "# decision tree\n",
    "plot_confusion_matrix(clf_dt, x_test, y_test,\n",
    "                      display_labels=display_labels,\n",
    "                      cmap='Blues')"
   ]
  },
  {
   "cell_type": "code",
   "execution_count": 236,
   "metadata": {
    "ExecuteTime": {
     "end_time": "2020-04-19T17:52:26.794209Z",
     "start_time": "2020-04-19T17:52:26.560786Z"
    }
   },
   "outputs": [
    {
     "data": {
      "text/plain": [
       "<sklearn.metrics._plot.confusion_matrix.ConfusionMatrixDisplay at 0x2383b11bc18>"
      ]
     },
     "execution_count": 236,
     "metadata": {},
     "output_type": "execute_result"
    },
    {
     "data": {
      "image/png": "[encoded data removed]",
      "text/plain": [
       "<Figure size 432x288 with 2 Axes>"
      ]
     },
     "metadata": {
      "needs_background": "light"
     },
     "output_type": "display_data"
    }
   ],
   "source": [
    "# random forest\n",
    "plot_confusion_matrix(clf_rf, x_test, y_test,\n",
    "                      display_labels=display_labels,\n",
    "                      cmap='Blues', values_format='.3g')"
   ]
  },
  {
   "cell_type": "code",
   "execution_count": 250,
   "metadata": {
    "ExecuteTime": {
     "end_time": "2020-04-19T18:03:20.706511Z",
     "start_time": "2020-04-19T18:03:20.432667Z"
    }
   },
   "outputs": [
    {
     "data": {
      "text/plain": [
       "<sklearn.metrics._plot.confusion_matrix.ConfusionMatrixDisplay at 0x2383c103f60>"
      ]
     },
     "execution_count": 250,
     "metadata": {},
     "output_type": "execute_result"
    },
    {
     "data": {
      "image/png": "[encoded data removed]",
      "text/plain": [
       "<Figure size 432x288 with 2 Axes>"
      ]
     },
     "metadata": {
      "needs_background": "light"
     },
     "output_type": "display_data"
    }
   ],
   "source": [
    "# random forest\n",
    "plot_confusion_matrix(best_clf, x_test, y_test,\n",
    "                      display_labels=display_labels,\n",
    "                      cmap='Blues', values_format='.3g')"
   ]
  },
  {
   "cell_type": "code",
   "execution_count": 233,
   "metadata": {
    "ExecuteTime": {
     "end_time": "2020-04-19T17:51:33.360838Z",
     "start_time": "2020-04-19T17:51:33.341850Z"
    }
   },
   "outputs": [],
   "source": [
    "y_pred = clf_rf.predict(x_test)"
   ]
  },
  {
   "cell_type": "code",
   "execution_count": 237,
   "metadata": {
    "ExecuteTime": {
     "end_time": "2020-04-19T17:53:47.930284Z",
     "start_time": "2020-04-19T17:53:47.927287Z"
    }
   },
   "outputs": [],
   "source": [
    "import pickle\n",
    "# joblib"
   ]
  },
  {
   "cell_type": "code",
   "execution_count": 238,
   "metadata": {
    "ExecuteTime": {
     "end_time": "2020-04-19T17:54:35.316210Z",
     "start_time": "2020-04-19T17:54:35.296221Z"
    }
   },
   "outputs": [],
   "source": [
    "filename = 'best_clf.pkl'\n",
    "pickle.dump(clf_rf, open(filename, 'wb'))"
   ]
  },
  {
   "cell_type": "code",
   "execution_count": 247,
   "metadata": {
    "ExecuteTime": {
     "end_time": "2020-04-19T18:03:01.093610Z",
     "start_time": "2020-04-19T18:03:01.075607Z"
    }
   },
   "outputs": [],
   "source": [
    "best_clf = pickle.load(open(filename, 'rb'))"
   ]
  },
  {
   "cell_type": "code",
   "execution_count": 249,
   "metadata": {
    "ExecuteTime": {
     "end_time": "2020-04-19T18:03:11.762494Z",
     "start_time": "2020-04-19T18:03:11.720500Z"
    }
   },
   "outputs": [],
   "source": [
    "y_pred = best_clf.predict(x_test)"
   ]
  }
 ],
 "metadata": {
  "kernelspec": {
   "display_name": "Python 3",
   "language": "python",
   "name": "python3"
  },
  "language_info": {
   "codemirror_mode": {
    "name": "ipython",
    "version": 3
   },
   "file_extension": ".py",
   "mimetype": "text/x-python",
   "name": "python",
   "nbconvert_exporter": "python",
   "pygments_lexer": "ipython3",
   "version": "3.7.3"
  }
 },
 "nbformat": 4,
 "nbformat_minor": 2
}
